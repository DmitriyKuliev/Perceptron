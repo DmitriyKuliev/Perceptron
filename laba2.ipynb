{
 "cells": [
  {
   "cell_type": "markdown",
   "metadata": {},
   "source": [
    "# Обучение однослойного персептрона методом коррекции по ошибке через дельта-правило"
   ]
  },
  {
   "cell_type": "code",
   "execution_count": 4,
   "metadata": {},
   "outputs": [],
   "source": [
    "PATH = 'D:\\homework\\OneLayerPerceptron TensorFlow\\OneLayerPerceptron\\data'\n",
    "import matplotlib.pyplot as plt\n",
    "import numpy as np\n",
    "import torch\n",
    "from torchvision import datasets, transforms\n",
    "transform = transforms.Compose([transforms.Resize(28),\n",
    "                                transforms.ToTensor()])\n",
    "train_dataset = datasets.ImageFolder(PATH+'/Train', transform=transform)\n",
    "dataloader = torch.utils.data.DataLoader(train_dataset, batch_size=32, shuffle=True)\n",
    "images, labels = next(iter(dataloader))"
   ]
  },
  {
   "cell_type": "code",
   "execution_count": 5,
   "metadata": {},
   "outputs": [
    {
     "data": {
      "text/plain": [
       "<matplotlib.image.AxesImage at 0x20c8785b2e0>"
      ]
     },
     "execution_count": 5,
     "metadata": {},
     "output_type": "execute_result"
    },
    {
     "data": {
      "image/png": "[encoded data removed]",
      "text/plain": [
       "<Figure size 432x288 with 1 Axes>"
      ]
     },
     "metadata": {
      "needs_background": "light"
     },
     "output_type": "display_data"
    }
   ],
   "source": [
    "plt.imshow(images[0][0])"
   ]
  },
  {
   "cell_type": "code",
   "execution_count": 6,
   "metadata": {},
   "outputs": [],
   "source": [
    "images = images[:, 0]\n",
    "images = images.reshape(24, 28*28)"
   ]
  },
  {
   "cell_type": "raw",
   "metadata": {},
   "source": [
    "Создадим однослойный персептрон"
   ]
  },
  {
   "cell_type": "code",
   "execution_count": 7,
   "metadata": {},
   "outputs": [],
   "source": [
    "import torch\n",
    "from torch.nn import Linear"
   ]
  },
  {
   "cell_type": "code",
   "execution_count": 8,
   "metadata": {},
   "outputs": [],
   "source": [
    "input_size = 784\n",
    "output_size = 1"
   ]
  },
  {
   "cell_type": "code",
   "execution_count": null,
   "metadata": {},
   "outputs": [],
   "source": [
    "mlp = torch.nn.Sequential(\n",
    "    Linear(input_size, output_size)\n",
    ").to('cuda')\n",
    "\n",
    "loss_fn = torch.nn.MSELoss()\n",
    "learning_rate = 0.001\n",
    "optimizer = torch.optim.Adadelta(mlp.parameters(), lr=learning_rate)\n",
    "num_epoch = 5000"
   ]
  },
  {
   "cell_type": "code",
   "execution_count": null,
   "metadata": {},
   "outputs": [],
   "source": [
    "train_data = torch.cuda.FloatTensor(images.numpy(), device='cuda')\n",
    "train_labels = torch.cuda.FloatTensor(labels.numpy(), device='cuda')\n",
    "\n",
    "loss_curve = []\n",
    "for epoch in range(num_epoch):\n",
    "    y_pred = mlp(train_data)\n",
    "    loss = loss_fn(y_pred.reshape(-1), train_labels)\n",
    "    optimizer.zero_grad()\n",
    "    loss.backward()\n",
    "    optimizer.step()\n",
    "\n",
    "    if epoch % 50 == 0:\n",
    "\n",
    "        print('Epoch:', epoch, 'Loss:', loss.item())\n",
    "        loss_curve.append(loss.item())"
   ]
  }
 ],
 "metadata": {
  "kernelspec": {
   "display_name": "Python 3",
   "language": "python",
   "name": "python3"
  },
  "language_info": {
   "codemirror_mode": {
    "name": "ipython",
    "version": 3
   },
   "file_extension": ".py",
   "mimetype": "text/x-python",
   "name": "python",
   "nbconvert_exporter": "python",
   "pygments_lexer": "ipython3",
   "version": "3.8.5"
  }
 },
 "nbformat": 4,
 "nbformat_minor": 4
}
