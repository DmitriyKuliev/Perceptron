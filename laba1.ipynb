{
 "cells": [
  {
   "cell_type": "markdown",
   "metadata": {},
   "source": [
    "# Обучение однослойного персептрона методом стохастического градиентного спуска"
   ]
  },
  {
   "cell_type": "code",
   "execution_count": 1,
   "metadata": {},
   "outputs": [],
   "source": [
    "import numpy as np"
   ]
  },
  {
   "cell_type": "code",
   "execution_count": 3,
   "metadata": {},
   "outputs": [],
   "source": [
    "def load_data(path):\n",
    "    with np.load(path, allow_pickle=True) as f:\n",
    "        x_train, y_train = f['x_train'], f['y_train']\n",
    "        x_test, y_test = f['x_test'], f['y_test']\n",
    "        return (x_train, y_train), (x_test, y_test)\n",
    "\n",
    "(X_train, y_train), (X_test, y_test) = load_data('D:\\homework\\mnist.npz')"
   ]
  },
  {
   "cell_type": "code",
   "execution_count": 4,
   "metadata": {},
   "outputs": [
    {
     "name": "stdout",
     "output_type": "stream",
     "text": [
      "Data shapes: \n",
      "X_train:  (60000, 28, 28)\n",
      "y_train:  (60000,)\n",
      "X_test:  (10000, 28, 28)\n",
      "y_test:  (10000,)\n"
     ]
    }
   ],
   "source": [
    "print('Data shapes: ')\n",
    "print('X_train: ', X_train.shape)\n",
    "print('y_train: ', y_train.shape)\n",
    "print('X_test: ', X_test.shape)\n",
    "print('y_test: ', y_test.shape)"
   ]
  },
  {
   "cell_type": "code",
   "execution_count": 5,
   "metadata": {},
   "outputs": [
    {
     "data": {
      "image/png": "[encoded data removed]",
      "text/plain": [
       "<Figure size 432x432 with 9 Axes>"
      ]
     },
     "metadata": {
      "needs_background": "light"
     },
     "output_type": "display_data"
    }
   ],
   "source": [
    "from matplotlib import pyplot as plt\n",
    "plt.figure(figsize=(6,6))\n",
    "a, b = 3, 3\n",
    "for i in range(a*b):  \n",
    "    plt.subplot(b, a, i+1)\n",
    "    plt.imshow(X_train[i], cmap='gray')\n",
    "    plt.title(str(y_train[i]))\n",
    "plt.tight_layout()\n",
    "plt.show()"
   ]
  },
  {
   "cell_type": "code",
   "execution_count": 48,
   "metadata": {},
   "outputs": [
    {
     "data": {
      "text/plain": [
       "array([5, 0, 4, 1, 9, 2, 1, 3, 1], dtype=uint8)"
      ]
     },
     "execution_count": 48,
     "metadata": {},
     "output_type": "execute_result"
    }
   ],
   "source": [
    "y_train[0:9]"
   ]
  },
  {
   "cell_type": "code",
   "execution_count": 2,
   "metadata": {},
   "outputs": [],
   "source": [
    "# Создадим однослойный персептрон с 28*28 входными нейронами и выходом размера 10 - вектором вероятности класса.\n",
    "import torch\n",
    "import torch.nn as nn\n",
    "import torch.optim as optim\n",
    "from torch.nn import Linear, LogSoftmax"
   ]
  },
  {
   "cell_type": "code",
   "execution_count": null,
   "metadata": {},
   "outputs": [],
   "source": [
    "import os\n",
    "\n",
    "class Dataset_train(torch.utils.data.Dataset):\n",
    "    def __init__(self, transform):\n",
    "        self.transform = transform\n",
    "\n",
    "        (X_train, y_train), (_, _) = load_data('D:\\homework\\mnist.npz')\n",
    "\n",
    "        self.X_train = X_train\n",
    "        self.y_train = y_train\n",
    "        self.classes = len(np.unique(self.y_train))\n",
    "\n",
    "    def __getitem__(self, idx):\n",
    "        image = self.X_train[idx]\n",
    "        label = self.y_train[idx]\n",
    "        if self.transform:\n",
    "            image = self.transform(image)\n",
    "            label = torch.tensor(label)\n",
    "        image = image.reshape(-1)\n",
    "        return image.float(), label.float()\n",
    "    \n",
    "    def __len__(self):\n",
    "        return self.X_train.shape[0]\n",
    "\n",
    "import torchvision\n",
    "from torch.utils.data import DataLoader\n",
    "\n",
    "train_dataset = Dataset_train(transform=torchvision.transforms.ToTensor())\n",
    "train_dataloader = DataLoader(train_dataset, batch_size=64, shuffle=True)"
   ]
  },
  {
   "cell_type": "code",
   "execution_count": null,
   "metadata": {},
   "outputs": [],
   "source": [
    "input_size = X_train.shape[1] * X_train.shape[2]\n",
    "output_size = 10\n",
    "batch_size = 64"
   ]
  },
  {
   "cell_type": "code",
   "execution_count": null,
   "metadata": {},
   "outputs": [],
   "source": [
    "loss_curves = []\n",
    "device = 'cuda'\n",
    "\n",
    "model = torch.nn.Sequential(\n",
    "    Linear (input_size, output_size),\n",
    "    LogSoftmax(),\n",
    " ).to(device)\n",
    "\n",
    "loss_fn = torch.nn.CrossEntropyLoss()\n",
    "learning_rate = 1e-3\n",
    "optimizer = torch.optim.SGD(model.parameters(), lr=learning_rate)\n",
    "num_epoch = 50\n",
    "losses = []\n",
    "acc = []"
   ]
  },
  {
   "cell_type": "code",
   "execution_count": 1,
   "metadata": {},
   "outputs": [],
   "source": [
    "for epoch in range(num_epoch):\n",
    "    loss_curve = []\n",
    "    accuracy_curve = []\n",
    "    for i, (train_features, train_labels) in enumerate(train_dataloader):\n",
    "        X = train_features.to(device)\n",
    "        y = train_labels.type(torch.LongTensor).to(device)\n",
    "        y_pred = model(X)\n",
    "        loss = loss_fn(y_pred, y)\n",
    "        accuracy = ((torch.max(y_pred.data, 1)[1] == y).sum() / len(y)).cpu().detach().numpy()\n",
    "        accuracy_curve.append(accuracy)\n",
    "        loss_curve.append(loss.cpu().detach().numpy())\n",
    "        optimizer.zero_grad()\n",
    "        loss.backward()\n",
    "        optimizer.step()\n",
    "    losses.append(np.mean(loss_curve))\n",
    "    acc.append(np.mean(accuracy_curve))"
   ]
  },
  {
   "cell_type": "code",
   "execution_count": null,
   "metadata": {},
   "outputs": [],
   "source": []
  }
 ],
 "metadata": {
  "kernelspec": {
   "display_name": "Python 3",
   "language": "python",
   "name": "python3"
  },
  "language_info": {
   "codemirror_mode": {
    "name": "ipython",
    "version": 3
   },
   "file_extension": ".py",
   "mimetype": "text/x-python",
   "name": "python",
   "nbconvert_exporter": "python",
   "pygments_lexer": "ipython3",
   "version": "3.8.5"
  }
 },
 "nbformat": 4,
 "nbformat_minor": 4
}
